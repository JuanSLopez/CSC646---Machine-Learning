{
 "cells": [
  {
   "cell_type": "markdown",
   "metadata": {},
   "source": [
    "# Regression using a Neural Network (Keras)\n",
    "The data is in 'housing.csv'. <br>\n",
    "Each row in the table is a data point:  the features of an area in California <br>\n",
    "Clearly, the `median_house_value` is correlated with some other features, e.g., `median_income` and location <br>\n",
    "Thus, we can estimate `median_house_value` = regression_model(`median_income`, `longitude`, `latitude`, ...) <br>\n",
    "The taks is to build an MLP regressor to predict `median_house_value` using the other features"
   ]
  },
  {
   "cell_type": "code",
   "execution_count": 1,
   "metadata": {
    "colab": {},
    "colab_type": "code",
    "id": "7FmGucnl4Uk8"
   },
   "outputs": [],
   "source": [
    "import tensorflow.keras as keras\n",
    "import sys\n",
    "sys.modules['keras'] = keras\n",
    "from keras.models import Sequential\n",
    "from keras.layers import Dense\n",
    "from keras.optimizers import SGD, Adam\n",
    "import matplotlib.pyplot as plt\n",
    "from mpl_toolkits import mplot3d\n",
    "import numpy as np\n",
    "import pandas as pd"
   ]
  },
  {
   "cell_type": "code",
   "execution_count": 2,
   "metadata": {},
   "outputs": [
    {
     "data": {
      "text/html": [
       "<div>\n",
       "<style scoped>\n",
       "    .dataframe tbody tr th:only-of-type {\n",
       "        vertical-align: middle;\n",
       "    }\n",
       "\n",
       "    .dataframe tbody tr th {\n",
       "        vertical-align: top;\n",
       "    }\n",
       "\n",
       "    .dataframe thead th {\n",
       "        text-align: right;\n",
       "    }\n",
       "</style>\n",
       "<table border=\"1\" class=\"dataframe\">\n",
       "  <thead>\n",
       "    <tr style=\"text-align: right;\">\n",
       "      <th></th>\n",
       "      <th>longitude</th>\n",
       "      <th>latitude</th>\n",
       "      <th>housing_median_age</th>\n",
       "      <th>total_rooms</th>\n",
       "      <th>total_bedrooms</th>\n",
       "      <th>population</th>\n",
       "      <th>households</th>\n",
       "      <th>median_income</th>\n",
       "      <th>median_house_value</th>\n",
       "      <th>ocean_proximity</th>\n",
       "    </tr>\n",
       "  </thead>\n",
       "  <tbody>\n",
       "    <tr>\n",
       "      <th>0</th>\n",
       "      <td>-122.23</td>\n",
       "      <td>37.88</td>\n",
       "      <td>41.0</td>\n",
       "      <td>880.0</td>\n",
       "      <td>129.0</td>\n",
       "      <td>322.0</td>\n",
       "      <td>126.0</td>\n",
       "      <td>8.3252</td>\n",
       "      <td>452600.0</td>\n",
       "      <td>NEAR BAY</td>\n",
       "    </tr>\n",
       "    <tr>\n",
       "      <th>1</th>\n",
       "      <td>-122.22</td>\n",
       "      <td>37.86</td>\n",
       "      <td>21.0</td>\n",
       "      <td>7099.0</td>\n",
       "      <td>1106.0</td>\n",
       "      <td>2401.0</td>\n",
       "      <td>1138.0</td>\n",
       "      <td>8.3014</td>\n",
       "      <td>358500.0</td>\n",
       "      <td>NEAR BAY</td>\n",
       "    </tr>\n",
       "    <tr>\n",
       "      <th>2</th>\n",
       "      <td>-122.24</td>\n",
       "      <td>37.85</td>\n",
       "      <td>52.0</td>\n",
       "      <td>1467.0</td>\n",
       "      <td>190.0</td>\n",
       "      <td>496.0</td>\n",
       "      <td>177.0</td>\n",
       "      <td>7.2574</td>\n",
       "      <td>352100.0</td>\n",
       "      <td>NEAR BAY</td>\n",
       "    </tr>\n",
       "    <tr>\n",
       "      <th>3</th>\n",
       "      <td>-122.25</td>\n",
       "      <td>37.85</td>\n",
       "      <td>52.0</td>\n",
       "      <td>1274.0</td>\n",
       "      <td>235.0</td>\n",
       "      <td>558.0</td>\n",
       "      <td>219.0</td>\n",
       "      <td>5.6431</td>\n",
       "      <td>341300.0</td>\n",
       "      <td>NEAR BAY</td>\n",
       "    </tr>\n",
       "    <tr>\n",
       "      <th>4</th>\n",
       "      <td>-122.25</td>\n",
       "      <td>37.85</td>\n",
       "      <td>52.0</td>\n",
       "      <td>1627.0</td>\n",
       "      <td>280.0</td>\n",
       "      <td>565.0</td>\n",
       "      <td>259.0</td>\n",
       "      <td>3.8462</td>\n",
       "      <td>342200.0</td>\n",
       "      <td>NEAR BAY</td>\n",
       "    </tr>\n",
       "  </tbody>\n",
       "</table>\n",
       "</div>"
      ],
      "text/plain": [
       "   longitude  latitude  housing_median_age  total_rooms  total_bedrooms  \\\n",
       "0    -122.23     37.88                41.0        880.0           129.0   \n",
       "1    -122.22     37.86                21.0       7099.0          1106.0   \n",
       "2    -122.24     37.85                52.0       1467.0           190.0   \n",
       "3    -122.25     37.85                52.0       1274.0           235.0   \n",
       "4    -122.25     37.85                52.0       1627.0           280.0   \n",
       "\n",
       "   population  households  median_income  median_house_value ocean_proximity  \n",
       "0       322.0       126.0         8.3252            452600.0        NEAR BAY  \n",
       "1      2401.0      1138.0         8.3014            358500.0        NEAR BAY  \n",
       "2       496.0       177.0         7.2574            352100.0        NEAR BAY  \n",
       "3       558.0       219.0         5.6431            341300.0        NEAR BAY  \n",
       "4       565.0       259.0         3.8462            342200.0        NEAR BAY  "
      ]
     },
     "execution_count": 2,
     "metadata": {},
     "output_type": "execute_result"
    }
   ],
   "source": [
    "housing = pd.read_csv(\"housing.csv\")\n",
    "housing.head()"
   ]
  },
  {
   "cell_type": "code",
   "execution_count": 3,
   "metadata": {},
   "outputs": [
    {
     "data": {
      "text/plain": [
       "(20640, 10)"
      ]
     },
     "execution_count": 3,
     "metadata": {},
     "output_type": "execute_result"
    }
   ],
   "source": [
    "housing.shape"
   ]
  },
  {
   "cell_type": "markdown",
   "metadata": {},
   "source": [
    "### Data pre-processing: remove NaN"
   ]
  },
  {
   "cell_type": "code",
   "execution_count": 4,
   "metadata": {},
   "outputs": [
    {
     "data": {
      "text/plain": [
       "longitude               0\n",
       "latitude                0\n",
       "housing_median_age      0\n",
       "total_rooms             0\n",
       "total_bedrooms        207\n",
       "population              0\n",
       "households              0\n",
       "median_income           0\n",
       "median_house_value      0\n",
       "ocean_proximity         0\n",
       "dtype: int64"
      ]
     },
     "execution_count": 4,
     "metadata": {},
     "output_type": "execute_result"
    }
   ],
   "source": [
    "housing.isnull().sum()"
   ]
  },
  {
   "cell_type": "code",
   "execution_count": 5,
   "metadata": {},
   "outputs": [
    {
     "data": {
      "text/plain": [
       "longitude             0\n",
       "latitude              0\n",
       "housing_median_age    0\n",
       "total_rooms           0\n",
       "total_bedrooms        0\n",
       "population            0\n",
       "households            0\n",
       "median_income         0\n",
       "median_house_value    0\n",
       "ocean_proximity       0\n",
       "dtype: int64"
      ]
     },
     "execution_count": 5,
     "metadata": {},
     "output_type": "execute_result"
    }
   ],
   "source": [
    "# there are 207 NaN in the column 'total_bedrooms', remove them\n",
    "# check housing again using housing.isnull().sum()\n",
    "housing['total_bedrooms'].fillna((housing['total_bedrooms'].mean()), inplace=True)\n",
    "housing.isnull().sum()"
   ]
  },
  {
   "cell_type": "markdown",
   "metadata": {},
   "source": [
    "### Data pre-processing: Convert categorical data to numerical data - \"ocean_proximity\""
   ]
  },
  {
   "cell_type": "code",
   "execution_count": 6,
   "metadata": {
    "colab": {
     "base_uri": "https://localhost:8080/",
     "height": 130
    },
    "colab_type": "code",
    "id": "RXn7GRuM4vgm",
    "outputId": "ebd6f495-12a9-4b2f-8dca-ce694cc5696a",
    "scrolled": true
   },
   "outputs": [
    {
     "data": {
      "text/plain": [
       "<1H OCEAN     9136\n",
       "INLAND        6551\n",
       "NEAR OCEAN    2658\n",
       "NEAR BAY      2290\n",
       "ISLAND           5\n",
       "Name: ocean_proximity, dtype: int64"
      ]
     },
     "execution_count": 6,
     "metadata": {},
     "output_type": "execute_result"
    }
   ],
   "source": [
    "housing[\"ocean_proximity\"].value_counts()"
   ]
  },
  {
   "cell_type": "code",
   "execution_count": 7,
   "metadata": {},
   "outputs": [
    {
     "data": {
      "text/html": [
       "<div>\n",
       "<style scoped>\n",
       "    .dataframe tbody tr th:only-of-type {\n",
       "        vertical-align: middle;\n",
       "    }\n",
       "\n",
       "    .dataframe tbody tr th {\n",
       "        vertical-align: top;\n",
       "    }\n",
       "\n",
       "    .dataframe thead th {\n",
       "        text-align: right;\n",
       "    }\n",
       "</style>\n",
       "<table border=\"1\" class=\"dataframe\">\n",
       "  <thead>\n",
       "    <tr style=\"text-align: right;\">\n",
       "      <th></th>\n",
       "      <th>longitude</th>\n",
       "      <th>latitude</th>\n",
       "      <th>housing_median_age</th>\n",
       "      <th>total_rooms</th>\n",
       "      <th>total_bedrooms</th>\n",
       "      <th>population</th>\n",
       "      <th>households</th>\n",
       "      <th>median_income</th>\n",
       "      <th>median_house_value</th>\n",
       "      <th>ocean_proximity_&lt;1H OCEAN</th>\n",
       "      <th>ocean_proximity_INLAND</th>\n",
       "      <th>ocean_proximity_ISLAND</th>\n",
       "      <th>ocean_proximity_NEAR BAY</th>\n",
       "      <th>ocean_proximity_NEAR OCEAN</th>\n",
       "    </tr>\n",
       "  </thead>\n",
       "  <tbody>\n",
       "    <tr>\n",
       "      <th>0</th>\n",
       "      <td>-122.23</td>\n",
       "      <td>37.88</td>\n",
       "      <td>41.0</td>\n",
       "      <td>880.0</td>\n",
       "      <td>129.0</td>\n",
       "      <td>322.0</td>\n",
       "      <td>126.0</td>\n",
       "      <td>8.3252</td>\n",
       "      <td>452600.0</td>\n",
       "      <td>0</td>\n",
       "      <td>0</td>\n",
       "      <td>0</td>\n",
       "      <td>1</td>\n",
       "      <td>0</td>\n",
       "    </tr>\n",
       "    <tr>\n",
       "      <th>1</th>\n",
       "      <td>-122.22</td>\n",
       "      <td>37.86</td>\n",
       "      <td>21.0</td>\n",
       "      <td>7099.0</td>\n",
       "      <td>1106.0</td>\n",
       "      <td>2401.0</td>\n",
       "      <td>1138.0</td>\n",
       "      <td>8.3014</td>\n",
       "      <td>358500.0</td>\n",
       "      <td>0</td>\n",
       "      <td>0</td>\n",
       "      <td>0</td>\n",
       "      <td>1</td>\n",
       "      <td>0</td>\n",
       "    </tr>\n",
       "    <tr>\n",
       "      <th>2</th>\n",
       "      <td>-122.24</td>\n",
       "      <td>37.85</td>\n",
       "      <td>52.0</td>\n",
       "      <td>1467.0</td>\n",
       "      <td>190.0</td>\n",
       "      <td>496.0</td>\n",
       "      <td>177.0</td>\n",
       "      <td>7.2574</td>\n",
       "      <td>352100.0</td>\n",
       "      <td>0</td>\n",
       "      <td>0</td>\n",
       "      <td>0</td>\n",
       "      <td>1</td>\n",
       "      <td>0</td>\n",
       "    </tr>\n",
       "    <tr>\n",
       "      <th>3</th>\n",
       "      <td>-122.25</td>\n",
       "      <td>37.85</td>\n",
       "      <td>52.0</td>\n",
       "      <td>1274.0</td>\n",
       "      <td>235.0</td>\n",
       "      <td>558.0</td>\n",
       "      <td>219.0</td>\n",
       "      <td>5.6431</td>\n",
       "      <td>341300.0</td>\n",
       "      <td>0</td>\n",
       "      <td>0</td>\n",
       "      <td>0</td>\n",
       "      <td>1</td>\n",
       "      <td>0</td>\n",
       "    </tr>\n",
       "    <tr>\n",
       "      <th>4</th>\n",
       "      <td>-122.25</td>\n",
       "      <td>37.85</td>\n",
       "      <td>52.0</td>\n",
       "      <td>1627.0</td>\n",
       "      <td>280.0</td>\n",
       "      <td>565.0</td>\n",
       "      <td>259.0</td>\n",
       "      <td>3.8462</td>\n",
       "      <td>342200.0</td>\n",
       "      <td>0</td>\n",
       "      <td>0</td>\n",
       "      <td>0</td>\n",
       "      <td>1</td>\n",
       "      <td>0</td>\n",
       "    </tr>\n",
       "  </tbody>\n",
       "</table>\n",
       "</div>"
      ],
      "text/plain": [
       "   longitude  latitude  housing_median_age  total_rooms  total_bedrooms  \\\n",
       "0    -122.23     37.88                41.0        880.0           129.0   \n",
       "1    -122.22     37.86                21.0       7099.0          1106.0   \n",
       "2    -122.24     37.85                52.0       1467.0           190.0   \n",
       "3    -122.25     37.85                52.0       1274.0           235.0   \n",
       "4    -122.25     37.85                52.0       1627.0           280.0   \n",
       "\n",
       "   population  households  median_income  median_house_value  \\\n",
       "0       322.0       126.0         8.3252            452600.0   \n",
       "1      2401.0      1138.0         8.3014            358500.0   \n",
       "2       496.0       177.0         7.2574            352100.0   \n",
       "3       558.0       219.0         5.6431            341300.0   \n",
       "4       565.0       259.0         3.8462            342200.0   \n",
       "\n",
       "   ocean_proximity_<1H OCEAN  ocean_proximity_INLAND  ocean_proximity_ISLAND  \\\n",
       "0                          0                       0                       0   \n",
       "1                          0                       0                       0   \n",
       "2                          0                       0                       0   \n",
       "3                          0                       0                       0   \n",
       "4                          0                       0                       0   \n",
       "\n",
       "   ocean_proximity_NEAR BAY  ocean_proximity_NEAR OCEAN  \n",
       "0                         1                           0  \n",
       "1                         1                           0  \n",
       "2                         1                           0  \n",
       "3                         1                           0  \n",
       "4                         1                           0  "
      ]
     },
     "execution_count": 7,
     "metadata": {},
     "output_type": "execute_result"
    }
   ],
   "source": [
    "#We can use one-hot encoding method by calling pd.get_dummies\n",
    "categorical_columns=['ocean_proximity'] # must be a list\n",
    "housing = pd.get_dummies(housing, columns=categorical_columns)\n",
    "housing.head()"
   ]
  },
  {
   "cell_type": "markdown",
   "metadata": {},
   "source": [
    "### Visualize the data"
   ]
  },
  {
   "cell_type": "code",
   "execution_count": 8,
   "metadata": {},
   "outputs": [
    {
     "data": {
      "text/plain": [
       "Text(0.5, 1.0, 'median_income')"
      ]
     },
     "execution_count": 8,
     "metadata": {},
     "output_type": "execute_result"
    },
    {
     "data": {
      "image/png": "[encoded data removed]",
      "text/plain": [
       "<Figure size 720x504 with 4 Axes>"
      ]
     },
     "metadata": {
      "needs_background": "light"
     },
     "output_type": "display_data"
    }
   ],
   "source": [
    "from skimage.io import imread\n",
    "california_img = imread('california.png')\n",
    "x1 = min(housing[\"longitude\"].values)\n",
    "x2 = max(housing[\"longitude\"].values)\n",
    "y1 = min(housing[\"latitude\"].values)\n",
    "y2 = max(housing[\"latitude\"].values)\n",
    "#---------------------------------------------\n",
    "# the parameter c refers to color\n",
    "# thus, median_house_value is color-coded in the left plot\n",
    "fig, ax =plt.subplots(1,2)\n",
    "housing.plot(ax=ax[0], kind=\"scatter\", x=\"longitude\", y=\"latitude\",\n",
    "             s=housing['population']/100, label=\"population\",\n",
    "             c=\"median_house_value\", cmap=plt.get_cmap(\"jet\"),\n",
    "             colorbar=True, alpha=0.4, figsize=(10,7))\n",
    "#---------------------------------------------\n",
    "# the parameter c refers to color\n",
    "# thus, median_income is color-coded in the right plot\n",
    "ax[0].imshow(california_img,extent=[x1,x2,y1,y2])\n",
    "ax[0].set_title('median_house_value')\n",
    "housing.plot(ax=ax[1], kind=\"scatter\", x=\"longitude\", y=\"latitude\",\n",
    "             s=housing['population']/100, label=\"population\",\n",
    "             c=\"median_income\", cmap=plt.get_cmap(\"jet\"),\n",
    "             colorbar=True, alpha=0.4, figsize=(10,7))\n",
    "ax[1].imshow(california_img,extent=[x1,x2,y1,y2])\n",
    "ax[1].set_title('median_income')"
   ]
  },
  {
   "cell_type": "markdown",
   "metadata": {},
   "source": [
    "### Prepare the Training and Testing Datasets"
   ]
  },
  {
   "cell_type": "code",
   "execution_count": 9,
   "metadata": {},
   "outputs": [
    {
     "data": {
      "text/html": [
       "<div>\n",
       "<style scoped>\n",
       "    .dataframe tbody tr th:only-of-type {\n",
       "        vertical-align: middle;\n",
       "    }\n",
       "\n",
       "    .dataframe tbody tr th {\n",
       "        vertical-align: top;\n",
       "    }\n",
       "\n",
       "    .dataframe thead th {\n",
       "        text-align: right;\n",
       "    }\n",
       "</style>\n",
       "<table border=\"1\" class=\"dataframe\">\n",
       "  <thead>\n",
       "    <tr style=\"text-align: right;\">\n",
       "      <th></th>\n",
       "      <th>longitude</th>\n",
       "      <th>latitude</th>\n",
       "      <th>housing_median_age</th>\n",
       "      <th>total_rooms</th>\n",
       "      <th>total_bedrooms</th>\n",
       "      <th>population</th>\n",
       "      <th>households</th>\n",
       "      <th>median_income</th>\n",
       "      <th>ocean_proximity_&lt;1H OCEAN</th>\n",
       "      <th>ocean_proximity_INLAND</th>\n",
       "      <th>ocean_proximity_ISLAND</th>\n",
       "      <th>ocean_proximity_NEAR BAY</th>\n",
       "      <th>ocean_proximity_NEAR OCEAN</th>\n",
       "    </tr>\n",
       "  </thead>\n",
       "  <tbody>\n",
       "    <tr>\n",
       "      <th>0</th>\n",
       "      <td>-122.23</td>\n",
       "      <td>37.88</td>\n",
       "      <td>41.0</td>\n",
       "      <td>880.0</td>\n",
       "      <td>129.0</td>\n",
       "      <td>322.0</td>\n",
       "      <td>126.0</td>\n",
       "      <td>8.3252</td>\n",
       "      <td>0</td>\n",
       "      <td>0</td>\n",
       "      <td>0</td>\n",
       "      <td>1</td>\n",
       "      <td>0</td>\n",
       "    </tr>\n",
       "    <tr>\n",
       "      <th>1</th>\n",
       "      <td>-122.22</td>\n",
       "      <td>37.86</td>\n",
       "      <td>21.0</td>\n",
       "      <td>7099.0</td>\n",
       "      <td>1106.0</td>\n",
       "      <td>2401.0</td>\n",
       "      <td>1138.0</td>\n",
       "      <td>8.3014</td>\n",
       "      <td>0</td>\n",
       "      <td>0</td>\n",
       "      <td>0</td>\n",
       "      <td>1</td>\n",
       "      <td>0</td>\n",
       "    </tr>\n",
       "    <tr>\n",
       "      <th>2</th>\n",
       "      <td>-122.24</td>\n",
       "      <td>37.85</td>\n",
       "      <td>52.0</td>\n",
       "      <td>1467.0</td>\n",
       "      <td>190.0</td>\n",
       "      <td>496.0</td>\n",
       "      <td>177.0</td>\n",
       "      <td>7.2574</td>\n",
       "      <td>0</td>\n",
       "      <td>0</td>\n",
       "      <td>0</td>\n",
       "      <td>1</td>\n",
       "      <td>0</td>\n",
       "    </tr>\n",
       "    <tr>\n",
       "      <th>3</th>\n",
       "      <td>-122.25</td>\n",
       "      <td>37.85</td>\n",
       "      <td>52.0</td>\n",
       "      <td>1274.0</td>\n",
       "      <td>235.0</td>\n",
       "      <td>558.0</td>\n",
       "      <td>219.0</td>\n",
       "      <td>5.6431</td>\n",
       "      <td>0</td>\n",
       "      <td>0</td>\n",
       "      <td>0</td>\n",
       "      <td>1</td>\n",
       "      <td>0</td>\n",
       "    </tr>\n",
       "    <tr>\n",
       "      <th>4</th>\n",
       "      <td>-122.25</td>\n",
       "      <td>37.85</td>\n",
       "      <td>52.0</td>\n",
       "      <td>1627.0</td>\n",
       "      <td>280.0</td>\n",
       "      <td>565.0</td>\n",
       "      <td>259.0</td>\n",
       "      <td>3.8462</td>\n",
       "      <td>0</td>\n",
       "      <td>0</td>\n",
       "      <td>0</td>\n",
       "      <td>1</td>\n",
       "      <td>0</td>\n",
       "    </tr>\n",
       "  </tbody>\n",
       "</table>\n",
       "</div>"
      ],
      "text/plain": [
       "   longitude  latitude  housing_median_age  total_rooms  total_bedrooms  \\\n",
       "0    -122.23     37.88                41.0        880.0           129.0   \n",
       "1    -122.22     37.86                21.0       7099.0          1106.0   \n",
       "2    -122.24     37.85                52.0       1467.0           190.0   \n",
       "3    -122.25     37.85                52.0       1274.0           235.0   \n",
       "4    -122.25     37.85                52.0       1627.0           280.0   \n",
       "\n",
       "   population  households  median_income  ocean_proximity_<1H OCEAN  \\\n",
       "0       322.0       126.0         8.3252                          0   \n",
       "1      2401.0      1138.0         8.3014                          0   \n",
       "2       496.0       177.0         7.2574                          0   \n",
       "3       558.0       219.0         5.6431                          0   \n",
       "4       565.0       259.0         3.8462                          0   \n",
       "\n",
       "   ocean_proximity_INLAND  ocean_proximity_ISLAND  ocean_proximity_NEAR BAY  \\\n",
       "0                       0                       0                         1   \n",
       "1                       0                       0                         1   \n",
       "2                       0                       0                         1   \n",
       "3                       0                       0                         1   \n",
       "4                       0                       0                         1   \n",
       "\n",
       "   ocean_proximity_NEAR OCEAN  \n",
       "0                           0  \n",
       "1                           0  \n",
       "2                           0  \n",
       "3                           0  \n",
       "4                           0  "
      ]
     },
     "execution_count": 9,
     "metadata": {},
     "output_type": "execute_result"
    }
   ],
   "source": [
    "X=housing.drop(['median_house_value'], axis=1)\n",
    "X.head()"
   ]
  },
  {
   "cell_type": "code",
   "execution_count": 10,
   "metadata": {},
   "outputs": [
    {
     "data": {
      "text/plain": [
       "0    452600.0\n",
       "1    358500.0\n",
       "2    352100.0\n",
       "3    341300.0\n",
       "4    342200.0\n",
       "Name: median_house_value, dtype: float64"
      ]
     },
     "execution_count": 10,
     "metadata": {},
     "output_type": "execute_result"
    }
   ],
   "source": [
    "Y=housing['median_house_value']\n",
    "Y.head()"
   ]
  },
  {
   "cell_type": "code",
   "execution_count": 11,
   "metadata": {},
   "outputs": [],
   "source": [
    "# convert pandas dataframe/series to numpy array\n",
    "# sklearn functions may not work well with pandas data types\n",
    "X_columns=X.columns #store the column names\n",
    "X=X.values.astype('float32')\n",
    "Y=Y.values.astype('float32')"
   ]
  },
  {
   "cell_type": "markdown",
   "metadata": {},
   "source": [
    "### trainnig, validation, testing split"
   ]
  },
  {
   "cell_type": "code",
   "execution_count": 12,
   "metadata": {},
   "outputs": [
    {
     "name": "stdout",
     "output_type": "stream",
     "text": [
      "train: (14860, 13) (14860,)\n",
      "validation: (1652, 13) (1652,)\n",
      "test: (4128, 13) (4128,)\n"
     ]
    }
   ],
   "source": [
    "#trainnig, validation, testing split\n",
    "from sklearn.model_selection import train_test_split\n",
    "X_train, X_test, Y_train, Y_test = train_test_split(X, Y, test_size=0.2, random_state=0)\n",
    "#split X_train and Y_train into a 'pure' training set and a validation set\n",
    "X_train, X_val, Y_train, Y_val = train_test_split(X_train, Y_train, test_size=0.1, random_state=0)\n",
    "print('train:', X_train.shape, Y_train.shape)\n",
    "print('validation:', X_val.shape, Y_val.shape)\n",
    "print('test:', X_test.shape, Y_test.shape)"
   ]
  },
  {
   "cell_type": "code",
   "execution_count": 13,
   "metadata": {},
   "outputs": [],
   "source": [
    "#apply feature normalization to training, validation and test sets\n",
    "from sklearn.preprocessing import MinMaxScaler\n",
    "scalerX=MinMaxScaler()\n",
    "scalerX.fit(X_train) # think about why fit to X_train, not X ?\n",
    "X_train=scalerX.transform(X_train)\n",
    "X_val=scalerX.transform(X_val)\n",
    "X_test=scalerX.transform(X_test)"
   ]
  },
  {
   "cell_type": "code",
   "execution_count": 14,
   "metadata": {},
   "outputs": [
    {
     "data": {
      "text/plain": [
       "array([0.5786848 , 0.38044596, 0.19607843, 0.12570114, 0.13671634,\n",
       "       0.00983827, 0.02795593, 0.11055019, 0.        , 1.        ,\n",
       "       0.        , 0.        , 0.        ], dtype=float32)"
      ]
     },
     "execution_count": 14,
     "metadata": {},
     "output_type": "execute_result"
    }
   ],
   "source": [
    "X_train[0]"
   ]
  },
  {
   "cell_type": "code",
   "execution_count": 15,
   "metadata": {},
   "outputs": [],
   "source": [
    "#normalize the output to facilitate convergence\n",
    "Y_train_max=Y_train.max()\n",
    "Y_train/=Y_train_max\n",
    "Y_val/=Y_train_max\n",
    "Y_test/=Y_train_max"
   ]
  },
  {
   "cell_type": "markdown",
   "metadata": {},
   "source": [
    "### use LinearRegression as the baseline model"
   ]
  },
  {
   "cell_type": "code",
   "execution_count": 16,
   "metadata": {},
   "outputs": [],
   "source": [
    "#step1:\n",
    "from sklearn.linear_model import LinearRegression\n",
    "linear_model = LinearRegression(fit_intercept=True)"
   ]
  },
  {
   "cell_type": "code",
   "execution_count": 17,
   "metadata": {},
   "outputs": [
    {
     "data": {
      "text/plain": [
       "LinearRegression()"
      ]
     },
     "execution_count": 17,
     "metadata": {},
     "output_type": "execute_result"
    }
   ],
   "source": [
    "#step2:\n",
    "linear_model.fit(X_train, Y_train)"
   ]
  },
  {
   "cell_type": "code",
   "execution_count": 18,
   "metadata": {},
   "outputs": [
    {
     "data": {
      "text/plain": [
       "array([-0.5266751 , -0.4705757 ,  0.11070077, -0.3135679 ,  0.87252647,\n",
       "       -2.802685  ,  1.0090173 ,  1.1304909 , -0.04724935, -0.12497991,\n",
       "        0.26538444, -0.05612908, -0.03702427], dtype=float32)"
      ]
     },
     "execution_count": 18,
     "metadata": {},
     "output_type": "execute_result"
    }
   ],
   "source": [
    "linear_model.coef_"
   ]
  },
  {
   "cell_type": "code",
   "execution_count": 19,
   "metadata": {},
   "outputs": [
    {
     "data": {
      "text/plain": [
       "0.5496527"
      ]
     },
     "execution_count": 19,
     "metadata": {},
     "output_type": "execute_result"
    }
   ],
   "source": [
    "linear_model.intercept_"
   ]
  },
  {
   "cell_type": "code",
   "execution_count": 20,
   "metadata": {
    "scrolled": false
   },
   "outputs": [
    {
     "name": "stdout",
     "output_type": "stream",
     "text": [
      "Evaluate model on testing set\n",
      "MSE= 0.018863903\n",
      "MAE= 0.09931181\n",
      "MAPE= 0.28951436\n"
     ]
    },
    {
     "data": {
      "text/plain": [
       "Text(0, 0.5, 'Y_test_pred')"
      ]
     },
     "execution_count": 20,
     "metadata": {},
     "output_type": "execute_result"
    },
    {
     "data": {
      "image/png": "[encoded data removed]",
      "text/plain": [
       "<Figure size 432x288 with 1 Axes>"
      ]
     },
     "metadata": {
      "needs_background": "light"
     },
     "output_type": "display_data"
    }
   ],
   "source": [
    "#step3:\n",
    "Y_train_pred = linear_model.predict(X_train)\n",
    "Y_test_pred = linear_model.predict(X_test)\n",
    "print('Evaluate model on testing set')\n",
    "MSE = np.mean((Y_test - Y_test_pred)**2)\n",
    "MAE = np.mean(np.abs(Y_test - Y_test_pred))\n",
    "MAPE =  np.mean(np.abs(Y_test - Y_test_pred)/Y_test)\n",
    "print('MSE=', MSE)\n",
    "print('MAE=', MAE)\n",
    "print('MAPE=', MAPE)\n",
    "#step6: \n",
    "# the red line is the 45-degree line\n",
    "fig, ax = plt.subplots()\n",
    "ax.set_title('Y_test_pred vs Y_test')\n",
    "ax.plot(Y_test, Y_test_pred, '.')\n",
    "ymax=np.max([Y_test.max(), Y_test_pred.max()])\n",
    "ax.plot(np.linspace(0,ymax, 3), np.linspace(0, ymax, 3), '-r')\n",
    "ax.set_xlabel('Y_test')\n",
    "ax.set_ylabel('Y_test_pred')"
   ]
  },
  {
   "cell_type": "markdown",
   "metadata": {},
   "source": [
    "## Your work begins here\n",
    "see NN_nonlinear_regression_Keras.ipynb"
   ]
  },
  {
   "cell_type": "markdown",
   "metadata": {},
   "source": [
    "#### define the model"
   ]
  },
  {
   "cell_type": "code",
   "execution_count": 21,
   "metadata": {},
   "outputs": [
    {
     "name": "stdout",
     "output_type": "stream",
     "text": [
      "Model: \"sequential\"\n",
      "_________________________________________________________________\n",
      "Layer (type)                 Output Shape              Param #   \n",
      "=================================================================\n",
      "dense (Dense)                (None, 16)                224       \n",
      "_________________________________________________________________\n",
      "dense_1 (Dense)              (None, 16)                272       \n",
      "_________________________________________________________________\n",
      "dense_2 (Dense)              (None, 1)                 17        \n",
      "=================================================================\n",
      "Total params: 513\n",
      "Trainable params: 513\n",
      "Non-trainable params: 0\n",
      "_________________________________________________________________\n"
     ]
    }
   ],
   "source": [
    "model = Sequential()\n",
    "model.add(Dense(units=16, activation='softplus', input_shape=(13,)))\n",
    "model.add(Dense(units=16, activation='softplus'))\n",
    "model.add(Dense(units=1, activation='linear'))\n",
    "model.compile(loss='mse', optimizer=SGD(lr=0.01, momentum=0.9))\n",
    "model.summary()"
   ]
  },
  {
   "cell_type": "markdown",
   "metadata": {},
   "source": [
    "#### Now, let's train the model for 100 epochs"
   ]
  },
  {
   "cell_type": "code",
   "execution_count": 22,
   "metadata": {},
   "outputs": [],
   "source": [
    "loss_train_list=[]\n",
    "loss_val_list=[]"
   ]
  },
  {
   "cell_type": "code",
   "execution_count": 23,
   "metadata": {},
   "outputs": [
    {
     "name": "stdout",
     "output_type": "stream",
     "text": [
      "epoch 0\n",
      "233/233 [==============================] - 0s 2ms/step - loss: 0.0679 - val_loss: 0.0348\n",
      "epoch 1\n",
      "233/233 [==============================] - 0s 1ms/step - loss: 0.0303 - val_loss: 0.0279\n",
      "epoch 2\n",
      "233/233 [==============================] - 0s 1ms/step - loss: 0.0254 - val_loss: 0.0245\n",
      "epoch 3\n",
      "233/233 [==============================] - 0s 1ms/step - loss: 0.0231 - val_loss: 0.0241\n",
      "epoch 4\n",
      "233/233 [==============================] - 0s 1ms/step - loss: 0.0224 - val_loss: 0.0245\n",
      "epoch 5\n",
      "233/233 [==============================] - 0s 1ms/step - loss: 0.0222 - val_loss: 0.0255\n",
      "epoch 6\n",
      "233/233 [==============================] - 0s 1ms/step - loss: 0.0219 - val_loss: 0.0252\n",
      "epoch 7\n",
      "233/233 [==============================] - 0s 1ms/step - loss: 0.0219 - val_loss: 0.0234\n",
      "epoch 8\n",
      "233/233 [==============================] - 0s 852us/step - loss: 0.0216 - val_loss: 0.0227\n",
      "epoch 9\n",
      "233/233 [==============================] - 0s 1ms/step - loss: 0.0217 - val_loss: 0.0230\n",
      "epoch 10\n",
      "233/233 [==============================] - 0s 769us/step - loss: 0.0214 - val_loss: 0.0231\n",
      "epoch 11\n",
      "233/233 [==============================] - 0s 765us/step - loss: 0.0217 - val_loss: 0.0232\n",
      "epoch 12\n",
      "233/233 [==============================] - 0s 857us/step - loss: 0.0212 - val_loss: 0.0223\n",
      "epoch 13\n",
      "233/233 [==============================] - 0s 795us/step - loss: 0.0212 - val_loss: 0.0232\n",
      "epoch 14\n",
      "233/233 [==============================] - 0s 772us/step - loss: 0.0211 - val_loss: 0.0229\n",
      "epoch 15\n",
      "233/233 [==============================] - 0s 802us/step - loss: 0.0210 - val_loss: 0.0221\n",
      "epoch 16\n",
      "233/233 [==============================] - 0s 1ms/step - loss: 0.0209 - val_loss: 0.0222\n",
      "epoch 17\n",
      "233/233 [==============================] - 0s 884us/step - loss: 0.0208 - val_loss: 0.0220\n",
      "epoch 18\n",
      "233/233 [==============================] - 0s 805us/step - loss: 0.0207 - val_loss: 0.0238\n",
      "epoch 19\n",
      "233/233 [==============================] - 0s 856us/step - loss: 0.0210 - val_loss: 0.0219\n",
      "epoch 20\n",
      "233/233 [==============================] - 0s 795us/step - loss: 0.0206 - val_loss: 0.0221\n",
      "epoch 21\n",
      "233/233 [==============================] - 0s 817us/step - loss: 0.0208 - val_loss: 0.0231\n",
      "epoch 22\n",
      "233/233 [==============================] - 0s 795us/step - loss: 0.0206 - val_loss: 0.0217\n",
      "epoch 23\n",
      "233/233 [==============================] - 0s 801us/step - loss: 0.0205 - val_loss: 0.0217\n",
      "epoch 24\n",
      "233/233 [==============================] - 0s 1ms/step - loss: 0.0204 - val_loss: 0.0216\n",
      "epoch 25\n",
      "233/233 [==============================] - 0s 983us/step - loss: 0.0204 - val_loss: 0.0228\n",
      "epoch 26\n",
      "233/233 [==============================] - 0s 897us/step - loss: 0.0204 - val_loss: 0.0222\n",
      "epoch 27\n",
      "233/233 [==============================] - 0s 853us/step - loss: 0.0203 - val_loss: 0.0215\n",
      "epoch 28\n",
      "233/233 [==============================] - 0s 1ms/step - loss: 0.0203 - val_loss: 0.0216\n",
      "epoch 29\n",
      "233/233 [==============================] - 0s 774us/step - loss: 0.0200 - val_loss: 0.0214\n",
      "epoch 30\n",
      "233/233 [==============================] - 0s 916us/step - loss: 0.0201 - val_loss: 0.0234\n",
      "epoch 31\n",
      "233/233 [==============================] - 0s 788us/step - loss: 0.0202 - val_loss: 0.0213\n",
      "epoch 32\n",
      "233/233 [==============================] - 0s 796us/step - loss: 0.0199 - val_loss: 0.0236\n",
      "epoch 33\n",
      "233/233 [==============================] - 0s 899us/step - loss: 0.0200 - val_loss: 0.0215\n",
      "epoch 34\n",
      "233/233 [==============================] - 0s 840us/step - loss: 0.0200 - val_loss: 0.0212\n",
      "epoch 35\n",
      "233/233 [==============================] - 0s 794us/step - loss: 0.0201 - val_loss: 0.0214\n",
      "epoch 36\n",
      "233/233 [==============================] - 0s 787us/step - loss: 0.0200 - val_loss: 0.0210\n",
      "epoch 37\n",
      "233/233 [==============================] - 0s 811us/step - loss: 0.0202 - val_loss: 0.0211\n",
      "epoch 38\n",
      "233/233 [==============================] - 0s 974us/step - loss: 0.0197 - val_loss: 0.0219\n",
      "epoch 39\n",
      "233/233 [==============================] - 0s 1ms/step - loss: 0.0200 - val_loss: 0.0216\n",
      "epoch 40\n",
      "233/233 [==============================] - 0s 911us/step - loss: 0.0197 - val_loss: 0.0212\n",
      "epoch 41\n",
      "233/233 [==============================] - 0s 1ms/step - loss: 0.0197 - val_loss: 0.0211\n",
      "epoch 42\n",
      "233/233 [==============================] - 0s 985us/step - loss: 0.0197 - val_loss: 0.0210\n",
      "epoch 43\n",
      "233/233 [==============================] - 0s 858us/step - loss: 0.0200 - val_loss: 0.0222\n",
      "epoch 44\n",
      "233/233 [==============================] - 0s 843us/step - loss: 0.0197 - val_loss: 0.0209\n",
      "epoch 45\n",
      "233/233 [==============================] - 0s 1ms/step - loss: 0.0194 - val_loss: 0.0210\n",
      "epoch 46\n",
      "233/233 [==============================] - 0s 941us/step - loss: 0.0194 - val_loss: 0.0222\n",
      "epoch 47\n",
      "233/233 [==============================] - 0s 949us/step - loss: 0.0198 - val_loss: 0.0206\n",
      "epoch 48\n",
      "233/233 [==============================] - 0s 861us/step - loss: 0.0197 - val_loss: 0.0208\n",
      "epoch 49\n",
      "233/233 [==============================] - 0s 1ms/step - loss: 0.0194 - val_loss: 0.0207\n",
      "epoch 50\n",
      "233/233 [==============================] - 0s 932us/step - loss: 0.0195 - val_loss: 0.0206\n",
      "epoch 51\n",
      "233/233 [==============================] - 0s 758us/step - loss: 0.0196 - val_loss: 0.0208\n",
      "epoch 52\n",
      "233/233 [==============================] - 0s 805us/step - loss: 0.0194 - val_loss: 0.0206\n",
      "epoch 53\n",
      "233/233 [==============================] - 0s 972us/step - loss: 0.0194 - val_loss: 0.0215\n",
      "epoch 54\n",
      "233/233 [==============================] - 0s 729us/step - loss: 0.0195 - val_loss: 0.0213\n",
      "epoch 55\n",
      "233/233 [==============================] - 0s 717us/step - loss: 0.0196 - val_loss: 0.0205\n",
      "epoch 56\n",
      "233/233 [==============================] - 0s 792us/step - loss: 0.0195 - val_loss: 0.0206\n",
      "epoch 57\n",
      "233/233 [==============================] - 0s 847us/step - loss: 0.0191 - val_loss: 0.0207\n",
      "epoch 58\n",
      "233/233 [==============================] - 0s 747us/step - loss: 0.0193 - val_loss: 0.0204\n",
      "epoch 59\n",
      "233/233 [==============================] - 0s 840us/step - loss: 0.0193 - val_loss: 0.0240\n",
      "epoch 60\n",
      "233/233 [==============================] - 0s 730us/step - loss: 0.0194 - val_loss: 0.0206\n",
      "epoch 61\n",
      "233/233 [==============================] - 0s 806us/step - loss: 0.0191 - val_loss: 0.0204\n",
      "epoch 62\n",
      "233/233 [==============================] - 0s 710us/step - loss: 0.0191 - val_loss: 0.0216\n",
      "epoch 63\n",
      "233/233 [==============================] - 0s 931us/step - loss: 0.0193 - val_loss: 0.0205\n",
      "epoch 64\n",
      "233/233 [==============================] - 0s 1ms/step - loss: 0.0190 - val_loss: 0.0202\n",
      "epoch 65\n",
      "233/233 [==============================] - 0s 741us/step - loss: 0.0189 - val_loss: 0.0205\n",
      "epoch 66\n",
      "233/233 [==============================] - 0s 741us/step - loss: 0.0191 - val_loss: 0.0216\n",
      "epoch 67\n",
      "233/233 [==============================] - 0s 764us/step - loss: 0.0191 - val_loss: 0.0207\n",
      "epoch 68\n",
      "233/233 [==============================] - 0s 766us/step - loss: 0.0191 - val_loss: 0.0215\n",
      "epoch 69\n",
      "233/233 [==============================] - 0s 1ms/step - loss: 0.0192 - val_loss: 0.0202\n",
      "epoch 70\n",
      "233/233 [==============================] - 0s 748us/step - loss: 0.0190 - val_loss: 0.0201\n",
      "epoch 71\n",
      "233/233 [==============================] - 0s 768us/step - loss: 0.0190 - val_loss: 0.0201\n",
      "epoch 72\n",
      "233/233 [==============================] - 0s 763us/step - loss: 0.0190 - val_loss: 0.0217\n",
      "epoch 73\n",
      "233/233 [==============================] - 0s 752us/step - loss: 0.0190 - val_loss: 0.0226\n",
      "epoch 74\n",
      "233/233 [==============================] - 0s 769us/step - loss: 0.0191 - val_loss: 0.0201\n",
      "epoch 75\n",
      "233/233 [==============================] - 0s 757us/step - loss: 0.0189 - val_loss: 0.0207\n",
      "epoch 76\n",
      "233/233 [==============================] - 0s 748us/step - loss: 0.0190 - val_loss: 0.0206\n",
      "epoch 77\n",
      "233/233 [==============================] - 0s 763us/step - loss: 0.0188 - val_loss: 0.0200\n",
      "epoch 78\n",
      "233/233 [==============================] - 0s 722us/step - loss: 0.0189 - val_loss: 0.0201\n",
      "epoch 79\n",
      "233/233 [==============================] - 0s 988us/step - loss: 0.0191 - val_loss: 0.0200\n",
      "epoch 80\n",
      "233/233 [==============================] - 0s 965us/step - loss: 0.0188 - val_loss: 0.0205\n",
      "epoch 81\n",
      "233/233 [==============================] - 0s 1ms/step - loss: 0.0187 - val_loss: 0.0200\n",
      "epoch 82\n"
     ]
    },
    {
     "name": "stdout",
     "output_type": "stream",
     "text": [
      "233/233 [==============================] - 0s 932us/step - loss: 0.0187 - val_loss: 0.0233\n",
      "epoch 83\n",
      "233/233 [==============================] - 0s 972us/step - loss: 0.0189 - val_loss: 0.0198\n",
      "epoch 84\n",
      "233/233 [==============================] - 0s 770us/step - loss: 0.0188 - val_loss: 0.0199\n",
      "epoch 85\n",
      "233/233 [==============================] - 0s 850us/step - loss: 0.0188 - val_loss: 0.0211\n",
      "epoch 86\n",
      "233/233 [==============================] - 0s 1ms/step - loss: 0.0187 - val_loss: 0.0213\n",
      "epoch 87\n",
      "233/233 [==============================] - 0s 842us/step - loss: 0.0187 - val_loss: 0.0201\n",
      "epoch 88\n",
      "  1/233 [..............................] - ETA: 0s - loss: 0.0341WARNING:tensorflow:Callbacks method `on_train_batch_end` is slow compared to the batch time (batch time: 0.0009s vs `on_train_batch_end` time: 0.0031s). Check your callbacks.\n",
      "233/233 [==============================] - 0s 1ms/step - loss: 0.0185 - val_loss: 0.0200\n",
      "epoch 89\n",
      "233/233 [==============================] - 0s 1ms/step - loss: 0.0187 - val_loss: 0.0200\n",
      "epoch 90\n",
      "233/233 [==============================] - 0s 1ms/step - loss: 0.0187 - val_loss: 0.0205\n",
      "epoch 91\n",
      "233/233 [==============================] - 0s 951us/step - loss: 0.0187 - val_loss: 0.0203\n",
      "epoch 92\n",
      "233/233 [==============================] - 0s 971us/step - loss: 0.0185 - val_loss: 0.0199\n",
      "epoch 93\n",
      "233/233 [==============================] - 0s 895us/step - loss: 0.0187 - val_loss: 0.0200\n",
      "epoch 94\n",
      "233/233 [==============================] - 0s 976us/step - loss: 0.0190 - val_loss: 0.0197\n",
      "epoch 95\n",
      "233/233 [==============================] - 0s 906us/step - loss: 0.0187 - val_loss: 0.0205\n",
      "epoch 96\n",
      "233/233 [==============================] - 0s 871us/step - loss: 0.0185 - val_loss: 0.0197\n",
      "epoch 97\n",
      "233/233 [==============================] - 0s 950us/step - loss: 0.0185 - val_loss: 0.0199\n",
      "epoch 98\n",
      "  1/233 [..............................] - ETA: 0s - loss: 0.0275WARNING:tensorflow:Callbacks method `on_train_batch_end` is slow compared to the batch time (batch time: 0.0009s vs `on_train_batch_end` time: 0.0017s). Check your callbacks.\n",
      "233/233 [==============================] - 0s 938us/step - loss: 0.0187 - val_loss: 0.0196\n",
      "epoch 99\n",
      "233/233 [==============================] - 0s 893us/step - loss: 0.0186 - val_loss: 0.0197\n"
     ]
    }
   ],
   "source": [
    "for epoch in range(0, 100):\n",
    "    #set epochs=1\n",
    "    print('epoch', epoch)\n",
    "    history=model.fit(X_train, Y_train, batch_size=64, epochs=1, validation_data=(X_val, Y_val))\n",
    "    loss_train_list.extend(history.history['loss'])\n",
    "    loss_val_list.extend(history.history['val_loss'])"
   ]
  },
  {
   "cell_type": "markdown",
   "metadata": {},
   "source": [
    "plot the loss vs epoch curve"
   ]
  },
  {
   "cell_type": "code",
   "execution_count": 24,
   "metadata": {},
   "outputs": [
    {
     "data": {
      "text/plain": [
       "<matplotlib.legend.Legend at 0x7fe84da12ee0>"
      ]
     },
     "execution_count": 24,
     "metadata": {},
     "output_type": "execute_result"
    },
    {
     "data": {
      "image/png": "[encoded data removed]",
      "text/plain": [
       "<Figure size 432x288 with 1 Axes>"
      ]
     },
     "metadata": {
      "needs_background": "light"
     },
     "output_type": "display_data"
    }
   ],
   "source": [
    "fig, ax = plt.subplots()\n",
    "ax.plot(np.arange(0,len(loss_train_list)), loss_train_list, '-b', label='training loss')\n",
    "ax.plot(np.arange(0,len(loss_val_list)), loss_val_list, '-r', label='validation loss')\n",
    "ax.set_xlabel('epoch',fontsize=16)\n",
    "ax.legend(fontsize=16)"
   ]
  },
  {
   "cell_type": "markdown",
   "metadata": {},
   "source": [
    "after training, we evaluate the model on the test dataset"
   ]
  },
  {
   "cell_type": "code",
   "execution_count": 25,
   "metadata": {},
   "outputs": [
    {
     "name": "stdout",
     "output_type": "stream",
     "text": [
      "Test loss: 0.018331052735447884\n"
     ]
    }
   ],
   "source": [
    "# get the loss on test set\n",
    "score = model.evaluate(X_test, Y_test, batch_size=64, verbose=0)\n",
    "print('Test loss:', score)"
   ]
  },
  {
   "cell_type": "code",
   "execution_count": 26,
   "metadata": {},
   "outputs": [],
   "source": [
    "#get Yp_test by using model.predict\n",
    "Yp_test=model.predict(X_test, batch_size=64)"
   ]
  },
  {
   "cell_type": "code",
   "execution_count": 27,
   "metadata": {},
   "outputs": [
    {
     "data": {
      "text/plain": [
       "numpy.ndarray"
      ]
     },
     "execution_count": 27,
     "metadata": {},
     "output_type": "execute_result"
    }
   ],
   "source": [
    "type(Yp_test)"
   ]
  },
  {
   "cell_type": "code",
   "execution_count": 28,
   "metadata": {},
   "outputs": [
    {
     "data": {
      "text/plain": [
       "(4128, 1)"
      ]
     },
     "execution_count": 28,
     "metadata": {},
     "output_type": "execute_result"
    }
   ],
   "source": [
    "Yp_test.shape"
   ]
  },
  {
   "cell_type": "code",
   "execution_count": 29,
   "metadata": {},
   "outputs": [],
   "source": [
    "Yp_test=Yp_test.squeeze()"
   ]
  },
  {
   "cell_type": "code",
   "execution_count": 30,
   "metadata": {},
   "outputs": [
    {
     "data": {
      "text/plain": [
       "(4128,)"
      ]
     },
     "execution_count": 30,
     "metadata": {},
     "output_type": "execute_result"
    }
   ],
   "source": [
    "Yp_test.shape"
   ]
  },
  {
   "cell_type": "code",
   "execution_count": 31,
   "metadata": {},
   "outputs": [
    {
     "data": {
      "text/plain": [
       "(4128,)"
      ]
     },
     "execution_count": 31,
     "metadata": {},
     "output_type": "execute_result"
    }
   ],
   "source": [
    "Y_test.shape"
   ]
  },
  {
   "cell_type": "code",
   "execution_count": 32,
   "metadata": {},
   "outputs": [
    {
     "name": "stdout",
     "output_type": "stream",
     "text": [
      "Evaluate model on testing set\n",
      "MSE= 0.018703457\n",
      "MAE= 0.099351116\n",
      "MAPE= 0.28700456\n"
     ]
    }
   ],
   "source": [
    "# compute MSE, MAE and MAPE on the test set\n",
    "MSE = np.mean((Y_train - Y_train_pred)**2)\n",
    "MAE = np.mean(np.abs(Y_train - Y_train_pred))\n",
    "MAPE =  np.mean(np.abs(Y_train - Y_train_pred)/Y_train)\n",
    "#\n",
    "print(\"Evaluate model on testing set\")\n",
    "print(\"MSE=\",MSE)\n",
    "print(\"MAE=\",MAE)\n",
    "print(\"MAPE=\",MAPE)"
   ]
  },
  {
   "cell_type": "code",
   "execution_count": 33,
   "metadata": {},
   "outputs": [
    {
     "data": {
      "image/png": "[encoded data removed]",
      "text/plain": [
       "<Figure size 432x288 with 1 Axes>"
      ]
     },
     "metadata": {
      "needs_background": "light"
     },
     "output_type": "display_data"
    }
   ],
   "source": [
    "# plot Yp_test vs Y_test\n",
    "# the red line is the 45-degree line\n",
    "fig, ax = plt.subplots()\n",
    "ax.plot(Yp_test, Y_test, '.')\n",
    "ax.plot(Y_test, Y_test, 'r-')\n",
    "ax.set_xlabel('Yp_test', fontsize=16)\n",
    "ax.set_ylabel('Y_test', fontsize=16)\n",
    "ax.grid(True)"
   ]
  },
  {
   "cell_type": "markdown",
   "metadata": {},
   "source": [
    "### change the structure of the MLP model and see if it can do better than XGBoost"
   ]
  },
  {
   "cell_type": "code",
   "execution_count": null,
   "metadata": {},
   "outputs": [],
   "source": [
    "#define a new model\n",
    "#train, validate and test the model"
   ]
  }
 ],
 "metadata": {
  "colab": {
   "name": "Untitled4.ipynb",
   "provenance": []
  },
  "kernelspec": {
   "display_name": "Python 3",
   "language": "python",
   "name": "python3"
  },
  "language_info": {
   "codemirror_mode": {
    "name": "ipython",
    "version": 3
   },
   "file_extension": ".py",
   "mimetype": "text/x-python",
   "name": "python",
   "nbconvert_exporter": "python",
   "pygments_lexer": "ipython3",
   "version": "3.8.3"
  }
 },
 "nbformat": 4,
 "nbformat_minor": 1
}
